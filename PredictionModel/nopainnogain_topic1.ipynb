{
 "cells": [
  {
   "cell_type": "code",
   "execution_count": 2,
   "metadata": {
    "collapsed": true
   },
   "outputs": [],
   "source": [
    "import matplotlib.pyplot as plt\n",
    "import pandas as pd\n",
    "import numpy as np\n",
    "# from sklearn import datasets, linear_model\n",
    "# from sklearn.model_selection import train_test_split\n",
    "# from sklearn.metrics import mean_squared_error\n",
    "import seaborn as sns"
   ]
  },
  {
   "cell_type": "code",
   "execution_count": 11,
   "metadata": {
    "collapsed": false
   },
   "outputs": [],
   "source": [
    "elog = pd.read_csv(\"../Dataset/HCM02-ELog.csv\", index_col=0)\n",
    "eprofile = pd.read_csv(\"../Dataset/HCM02-EProfile.csv\", index_col=0)\n",
    "eweather = pd.read_csv(\"../Dataset/HCM02-EWeather.csv\", sep=\"\\t\", index_col=0)"
   ]
  },
  {
   "cell_type": "code",
   "execution_count": 12,
   "metadata": {
    "collapsed": false
   },
   "outputs": [
    {
     "data": {
      "text/html": [
       "<div>\n",
       "<style scoped>\n",
       "    .dataframe tbody tr th:only-of-type {\n",
       "        vertical-align: middle;\n",
       "    }\n",
       "\n",
       "    .dataframe tbody tr th {\n",
       "        vertical-align: top;\n",
       "    }\n",
       "\n",
       "    .dataframe thead th {\n",
       "        text-align: right;\n",
       "    }\n",
       "</style>\n",
       "<table border=\"1\" class=\"dataframe\">\n",
       "  <thead>\n",
       "    <tr style=\"text-align: right;\">\n",
       "      <th></th>\n",
       "      <th>date</th>\n",
       "      <th>city</th>\n",
       "      <th>temp</th>\n",
       "      <th>dew_point</th>\n",
       "      <th>humidity</th>\n",
       "      <th>cloud_cover</th>\n",
       "      <th>trend</th>\n",
       "      <th>summary</th>\n",
       "      <th>wind_speed</th>\n",
       "      <th>visibility</th>\n",
       "      <th>pressure</th>\n",
       "      <th>wind_bearing</th>\n",
       "    </tr>\n",
       "  </thead>\n",
       "  <tbody>\n",
       "    <tr>\n",
       "      <th>32047</th>\n",
       "      <td>2019/10/31 07:00:00 AM</td>\n",
       "      <td>VPC</td>\n",
       "      <td>21.67</td>\n",
       "      <td>19.25</td>\n",
       "      <td>0.86</td>\n",
       "      <td>0.22</td>\n",
       "      <td>clear-day</td>\n",
       "      <td>Clear</td>\n",
       "      <td>1.41</td>\n",
       "      <td>7.89</td>\n",
       "      <td>NaN</td>\n",
       "      <td>NAN</td>\n",
       "    </tr>\n",
       "    <tr>\n",
       "      <th>5626</th>\n",
       "      <td>2019/08/23 10:00:00 AM</td>\n",
       "      <td>DNI</td>\n",
       "      <td>33.93</td>\n",
       "      <td>24.97</td>\n",
       "      <td>0.6</td>\n",
       "      <td>0.75</td>\n",
       "      <td>partly-cloudy-day</td>\n",
       "      <td>Humid and Mostly Cloudy</td>\n",
       "      <td>1.0</td>\n",
       "      <td>10.01</td>\n",
       "      <td>NaN</td>\n",
       "      <td>320.0</td>\n",
       "    </tr>\n",
       "    <tr>\n",
       "      <th>13847</th>\n",
       "      <td>2019/03/02 11:00:00 PM</td>\n",
       "      <td>BDG</td>\n",
       "      <td>25.01</td>\n",
       "      <td>22.99</td>\n",
       "      <td>0.89</td>\n",
       "      <td>0.44</td>\n",
       "      <td>partly-cloudy-night</td>\n",
       "      <td>Humid and Partly Cloudy</td>\n",
       "      <td>1.5</td>\n",
       "      <td>5.01</td>\n",
       "      <td>NaN</td>\n",
       "      <td>120.0</td>\n",
       "    </tr>\n",
       "    <tr>\n",
       "      <th>75246</th>\n",
       "      <td>2019/02/09 06:00:00 AM</td>\n",
       "      <td>HPG</td>\n",
       "      <td>11.03</td>\n",
       "      <td>11.03</td>\n",
       "      <td>1.0</td>\n",
       "      <td>0.21</td>\n",
       "      <td>fog</td>\n",
       "      <td>Foggy</td>\n",
       "      <td>1.5</td>\n",
       "      <td>1.69</td>\n",
       "      <td>NaN</td>\n",
       "      <td>221.0</td>\n",
       "    </tr>\n",
       "    <tr>\n",
       "      <th>101853</th>\n",
       "      <td>2020/11/08 09:00:00 PM</td>\n",
       "      <td>VPC</td>\n",
       "      <td>21.32</td>\n",
       "      <td>18.4</td>\n",
       "      <td>NAN</td>\n",
       "      <td>0.94</td>\n",
       "      <td>cloudy</td>\n",
       "      <td>Overcast</td>\n",
       "      <td>1.69</td>\n",
       "      <td>16.093</td>\n",
       "      <td>1017.1</td>\n",
       "      <td>312.0</td>\n",
       "    </tr>\n",
       "  </tbody>\n",
       "</table>\n",
       "</div>"
      ],
      "text/plain": [
       "                          date city   temp dew_point humidity cloud_cover  \\\n",
       "32047   2019/10/31 07:00:00 AM  VPC  21.67     19.25     0.86        0.22   \n",
       "5626    2019/08/23 10:00:00 AM  DNI  33.93     24.97      0.6        0.75   \n",
       "13847   2019/03/02 11:00:00 PM  BDG  25.01     22.99     0.89        0.44   \n",
       "75246   2019/02/09 06:00:00 AM  HPG  11.03     11.03      1.0        0.21   \n",
       "101853  2020/11/08 09:00:00 PM  VPC  21.32      18.4      NAN        0.94   \n",
       "\n",
       "                      trend                  summary wind_speed visibility  \\\n",
       "32047             clear-day                    Clear       1.41       7.89   \n",
       "5626      partly-cloudy-day  Humid and Mostly Cloudy        1.0      10.01   \n",
       "13847   partly-cloudy-night  Humid and Partly Cloudy        1.5       5.01   \n",
       "75246                   fog                    Foggy        1.5       1.69   \n",
       "101853               cloudy                 Overcast       1.69     16.093   \n",
       "\n",
       "       pressure wind_bearing  \n",
       "32047       NaN          NAN  \n",
       "5626        NaN        320.0  \n",
       "13847       NaN        120.0  \n",
       "75246       NaN        221.0  \n",
       "101853   1017.1        312.0  "
      ]
     },
     "execution_count": 12,
     "metadata": {},
     "output_type": "execute_result"
    }
   ],
   "source": [
    "eweather.head()"
   ]
  }
 ],
 "metadata": {
  "kernelspec": {
   "display_name": "Python 3.9.9 64-bit",
   "language": "python",
   "name": "python3"
  },
  "language_info": {
   "codemirror_mode": {
    "name": "ipython",
    "version": 3
   },
   "file_extension": ".py",
   "mimetype": "text/x-python",
   "name": "python",
   "nbconvert_exporter": "python",
   "pygments_lexer": "ipython3",
   "version": "3.9.9"
  },
  "vscode": {
   "interpreter": {
    "hash": "a328061549018b838b2e4a812fe9620887ab05ce1fe7d5d0183b2589cd3f18f1"
   }
  }
 },
 "nbformat": 4,
 "nbformat_minor": 0
}
